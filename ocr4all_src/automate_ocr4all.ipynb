{
 "cells": [
  {
   "cell_type": "code",
   "execution_count": 1,
   "metadata": {},
   "outputs": [],
   "source": [
    "import requests\n",
    "import os\n",
    "import json\n",
    "from copy import deepcopy\n",
    "\n",
    "from tqdm import tqdm"
   ]
  },
  {
   "cell_type": "code",
   "execution_count": 2,
   "metadata": {},
   "outputs": [],
   "source": [
    "# ### API Endpoints\n",
    "\n",
    "# - **POST /upload-zip/**: Upload a ZIP file containing PDFs.\n",
    "#     - **Request**: `multipart/form-data` with the file field named `file`.\n",
    "#     - **Response**: JSON indicating success or failure.\n"
   ]
  },
  {
   "cell_type": "code",
   "execution_count": 3,
   "metadata": {},
   "outputs": [],
   "source": [
    "# filepath = 'WharncliffeGardensRepairsAndDecorations.zip'\n",
    "# url = 'http://localhost:8000/upload-zip/'\n",
    "# requests.post(\n",
    "#     url,\n",
    "#     files={'file': open(filepath, 'rb')}\n",
    "# )"
   ]
  },
  {
   "cell_type": "code",
   "execution_count": 4,
   "metadata": {},
   "outputs": [],
   "source": [
    "BASE_PAYLOAD = {\n",
    "    \"processesToExecute\": [\"preprocessing\", \"segmentationKraken\", \"lineSegmentation\", \"recognition\"],\n",
    "    \"processSettings\": {\n",
    "        \"lineSegmentation\": {\n",
    "            \"cmdArgs\": [\"--max-whiteseps\", \"-1\", \"--parallel\", \"16\"]\n",
    "        },\n",
    "        \"preprocessing\": {\n",
    "            \"cmdArgs\": [\"--nocheck\", \"--maxskew\", \"0\", \"--parallel\", \"16\"]\n",
    "        },\n",
    "        \"recognition\": {\n",
    "            \"cmdArgs\": [\n",
    "                \"--verbose True\",\n",
    "                \"--estimate_skew\",\n",
    "                \"--data.output_confidences\",\n",
    "                \"--data.output_glyphs\",\n",
    "                \"--pipeline.batch_size\",\n",
    "                \"5\",\n",
    "                \"--data.max_glyph_alternatives\",\n",
    "                \"1\",\n",
    "                \"--checkpoint\",\n",
    "                \"/var/ocr4all/models/default/default/uw3-modern-english/0.ckpt.json /var/ocr4all/models/default/default/uw3-modern-english/1.ckpt.json /var/ocr4all/models/default/default/uw3-modern-english/2.ckpt.json /var/ocr4all/models/default/default/uw3-modern-english/3.ckpt.json /var/ocr4all/models/default/default/uw3-modern-english/4.ckpt.json\"\n",
    "            ]\n",
    "        },\n",
    "        \"segmentationKraken\": {\n",
    "            \"imageType\": \"Binary\"\n",
    "        }\n",
    "    }\n",
    "}\n",
    "\n",
    "HEADERS = {\n",
    "    \"Accept\": \"application/json\",\n",
    "    \"Accept-Language\": \"pl-PL,pl;q=0.9,en-US;q=0.8,en;q=0.7\",\n",
    "    \"Connection\": \"keep-alive\",\n",
    "    \"Content-Type\": \"application/json\",\n",
    "    \"Origin\": \"http://localhost:1476\",\n",
    "    \"Referer\": \"http://localhost:1476/ocr4all/ProcessFlow\",\n",
    "    \"Sec-Fetch-Dest\": \"empty\",\n",
    "    \"Sec-Fetch-Mode\": \"cors\",\n",
    "    \"Sec-Fetch-Site\": \"same-origin\",\n",
    "    \"User-Agent\": \"Mozilla/5.0 (Windows NT 10.0; Win64; x64) AppleWebKit/537.36 (KHTML, like Gecko) Chrome/123.0.0.0 Safari/537.36 OPR/109.0.0.0\",\n",
    "    \"X-Requested-With\": \"XMLHttpRequest\",\n",
    "    \"sec-ch-ua\": '\"Opera GX\";v=\"109\", \"Not:A-Brand\";v=\"8\", \"Chromium\";v=\"123\"',\n",
    "    \"sec-ch-ua-mobile\": \"?0\",\n",
    "    \"sec-ch-ua-platform\": '\"Windows\"',\n",
    "    # \"Content-Length\": \"764\"\n",
    "}"
   ]
  },
  {
   "cell_type": "code",
   "execution_count": 5,
   "metadata": {},
   "outputs": [],
   "source": [
    "PAYLOAD_RESULTS_GENERATION ={\n",
    "    # 'pageIds[]': '0000',\n",
    "    # 'pageIds[]': '0001'\n",
    "    'resultType': 'txt',\n",
    "    'resultStrategy': 'pred',\n",
    "    'preserveEmptyLines': 'true',\n",
    "    'addPageDelimiter': 'true',\n",
    "    'customPageDelimiter': ''\n",
    "}"
   ]
  },
  {
   "cell_type": "code",
   "execution_count": 6,
   "metadata": {},
   "outputs": [],
   "source": [
    "HEADERS_RESULTS_GENERATION = {\n",
    "    'Accept': '*/*',\n",
    "    'Accept-Encoding': 'gzip, deflate, br, zstd',\n",
    "    'Accept-Language': 'pl-PL,pl;q=0.9,en-US;q=0.8,en;q=0.7',\n",
    "    'Connection': 'keep-alive',\n",
    "    'Content-Type': 'application/x-www-form-urlencoded; charset=UTF-8',\n",
    "    # 'Cookie': 'JSESSIONID=7BC14C57A413FCF46AD2283AA8F3532F; ajs_anonymous_id=c7f42e44-8ae1-41f2-a1e4-62c6dc25221f',\n",
    "    'Host': 'localhost:1476',\n",
    "    'Origin': 'http://localhost:1476',\n",
    "    'Referer': 'http://localhost:1476/ocr4all/ResultGeneration',\n",
    "    'Sec-Fetch-Dest': 'empty',\n",
    "    'Sec-Fetch-Mode': 'cors',\n",
    "    'Sec-Fetch-Site': 'same-origin',\n",
    "    'User-Agent': 'Mozilla/5.0 (X11; Linux x86_64) AppleWebKit/537.36 (KHTML, like Gecko) Chrome/119.0.0.0 Safari/537.36',\n",
    "    'X-Requested-With': 'XMLHttpRequest',\n",
    "    'sec-ch-ua': '\"Google Chrome\";v=\"119\", \"Chromium\";v=\"119\", \"Not?A_Brand\";v=\"24\"',\n",
    "    'sec-ch-ua-mobile': '?0',\n",
    "    'sec-ch-ua-platform': '\"Linux\"'\n",
    "}"
   ]
  },
  {
   "cell_type": "code",
   "execution_count": 12,
   "metadata": {},
   "outputs": [
    {
     "name": "stderr",
     "output_type": "stream",
     "text": [
      "  0%|          | 0/4 [00:00<?, ?it/s]"
     ]
    },
    {
     "name": "stdout",
     "output_type": "stream",
     "text": [
      "STARTED PROCESSING\n"
     ]
    },
    {
     "name": "stderr",
     "output_type": "stream",
     "text": [
      " 25%|██▌       | 1/4 [00:16<00:50, 16.67s/it]"
     ]
    },
    {
     "name": "stdout",
     "output_type": "stream",
     "text": [
      "STARTED PROCESSING\n"
     ]
    },
    {
     "name": "stderr",
     "output_type": "stream",
     "text": [
      " 50%|█████     | 2/4 [00:36<00:36, 18.28s/it]"
     ]
    },
    {
     "name": "stdout",
     "output_type": "stream",
     "text": [
      "STARTED PROCESSING\n"
     ]
    },
    {
     "name": "stderr",
     "output_type": "stream",
     "text": [
      " 75%|███████▌  | 3/4 [01:01<00:21, 21.36s/it]"
     ]
    },
    {
     "name": "stdout",
     "output_type": "stream",
     "text": [
      "!!!!!! ERROR FOR FILE 0002 !!!!!!\n",
      "b'<!doctype html><html lang=\"en\"><head><title>HTTP Status 500 \\xe2\\x80\\x93 Internal Server Error</title><style type=\"text/css\">body {font-family:Tahoma,Arial,sans-serif;} h1, h2, h3, b {color:white;background-color:#525D76;} h1 {font-size:22px;} h2 {font-size:16px;} h3 {font-size:14px;} p {font-size:12px;} a {color:black;} .line {height:1px;background-color:#525D76;border:none;}</style></head><body><h1>HTTP Status 500 \\xe2\\x80\\x93 Internal Server Error</h1><hr class=\"line\" /><p><b>Type</b> Exception Report</p><p><b>Message</b> Request processing failed; nested exception is java.lang.NullPointerException</p><p><b>Description</b> The server encountered an unexpected condition that prevented it from fulfilling the request.</p><p><b>Exception</b></p><pre>org.springframework.web.util.NestedServletException: Request processing failed; nested exception is java.lang.NullPointerException\\n\\torg.springframework.web.servlet.FrameworkServlet.processRequest(FrameworkServlet.java:1014)\\n\\torg.springframework.web.servlet.FrameworkServlet.doPost(FrameworkServlet.java:909)\\n\\tjavax.servlet.http.HttpServlet.service(HttpServlet.java:681)\\n\\torg.springframework.web.servlet.FrameworkServlet.service(FrameworkServlet.java:883)\\n\\tjavax.servlet.http.HttpServlet.service(HttpServlet.java:764)\\n\\torg.apache.tomcat.websocket.server.WsFilter.doFilter(WsFilter.java:53)\\n</pre><p><b>Root Cause</b></p><pre>java.lang.NullPointerException\\n\\tde.uniwue.helper.ResultGenerationHelper.populatePageResult(ResultGenerationHelper.java:271)\\n\\tde.uniwue.helper.ResultGenerationHelper.executeTextProcess(ResultGenerationHelper.java:377)\\n\\tde.uniwue.helper.ResultGenerationHelper.executeProcess(ResultGenerationHelper.java:177)\\n\\tde.uniwue.controller.ResultGenerationController.execute(ResultGenerationController.java:98)\\n\\tsun.reflect.GeneratedMethodAccessor66.invoke(Unknown Source)\\n\\tsun.reflect.DelegatingMethodAccessorImpl.invoke(DelegatingMethodAccessorImpl.java:43)\\n\\tjava.lang.reflect.Method.invoke(Method.java:498)\\n\\torg.springframework.web.method.support.InvocableHandlerMethod.doInvoke(InvocableHandlerMethod.java:205)\\n\\torg.springframework.web.method.support.InvocableHandlerMethod.invokeForRequest(InvocableHandlerMethod.java:150)\\n\\torg.springframework.web.servlet.mvc.method.annotation.ServletInvocableHandlerMethod.invokeAndHandle(ServletInvocableHandlerMethod.java:117)\\n\\torg.springframework.web.servlet.mvc.method.annotation.RequestMappingHandlerAdapter.invokeHandlerMethod(RequestMappingHandlerAdapter.java:895)\\n\\torg.springframework.web.servlet.mvc.method.annotation.RequestMappingHandlerAdapter.handleInternal(RequestMappingHandlerAdapter.java:808)\\n\\torg.springframework.web.servlet.mvc.method.AbstractHandlerMethodAdapter.handle(AbstractHandlerMethodAdapter.java:87)\\n\\torg.springframework.web.servlet.DispatcherServlet.doDispatch(DispatcherServlet.java:1072)\\n\\torg.springframework.web.servlet.DispatcherServlet.doService(DispatcherServlet.java:965)\\n\\torg.springframework.web.servlet.FrameworkServlet.processRequest(FrameworkServlet.java:1006)\\n\\torg.springframework.web.servlet.FrameworkServlet.doPost(FrameworkServlet.java:909)\\n\\tjavax.servlet.http.HttpServlet.service(HttpServlet.java:681)\\n\\torg.springframework.web.servlet.FrameworkServlet.service(FrameworkServlet.java:883)\\n\\tjavax.servlet.http.HttpServlet.service(HttpServlet.java:764)\\n\\torg.apache.tomcat.websocket.server.WsFilter.doFilter(WsFilter.java:53)\\n</pre><p><b>Note</b> The full stack trace of the root cause is available in the server logs.</p><hr class=\"line\" /><h3>Apache Tomcat/9.0.54</h3></body></html>'\n",
      "STARTED PROCESSING\n"
     ]
    },
    {
     "name": "stderr",
     "output_type": "stream",
     "text": [
      "100%|██████████| 4/4 [01:36<00:00, 24.01s/it]\n"
     ]
    }
   ],
   "source": [
    "input_paths = os.listdir('data')\n",
    "OCR4ALL_EXECUTE_URL = \"http://localhost:1476/ocr4all/ajax/processFlow/execute\"\n",
    "OCR4ALL_LISTFILES_URL = \"http://localhost:1476/ocr4all/ajax/overview/list\"\n",
    "OCR4ALL_GENERATE_RESULTS = 'http://localhost:1476/ocr4all/ajax/resultGeneration/execute'\n",
    "\n",
    "for path in tqdm(input_paths[-4:]):\n",
    "    url_checkDir = 'http://localhost:1476/ocr4all/ajax/overview/checkDir?&projectDir=%2Fvar%2Focr4all%2Fdata%2F{name}%2F&imageType=Gray&resetSession=true'\n",
    "    path_processed = path.replace(' ', '%20')\n",
    "    url_checkDir = url_checkDir.format(name=path_processed)\n",
    "    # 04%2003%202019%20Wharncliffe%20Gardnes%20Major%20Works%20AA102%20-%20Update%20FAQ\n",
    "    # print(url_checkDir)\n",
    "\n",
    "    # 1st establish session through cookies\n",
    "    resp = requests.get(url_checkDir)\n",
    "    cookies = resp.cookies\n",
    "\n",
    "    # # 2nd list files in session\n",
    "    files = requests.get(OCR4ALL_LISTFILES_URL, cookies=cookies).json()\n",
    "    files = [f['pageId'] for f in files]\n",
    "\n",
    "    # 3rd execute OCR4ALL\n",
    "    payload = deepcopy(BASE_PAYLOAD)\n",
    "    payload = {\"pageIds\": files, **payload}\n",
    "    print('STARTED PROCESSING')\n",
    "    resp = requests.post(OCR4ALL_EXECUTE_URL, json=payload, headers=HEADERS, cookies=cookies)\n",
    "    assert resp.status_code == 200\n",
    "\n",
    "    # 4th generate results\n",
    "    payload = deepcopy(PAYLOAD_RESULTS_GENERATION)\n",
    "    gen_responses = []\n",
    "    for f in files:\n",
    "        payload[f'pageIds[]'] = f\n",
    "        r = requests.post(OCR4ALL_GENERATE_RESULTS, data=payload, headers=HEADERS_RESULTS_GENERATION, cookies=cookies)\n",
    "        if r.status_code != 200:\n",
    "            print('!!!!!! ERROR FOR FILE', f, '!!!!!!')\n",
    "            print(r.content)\n",
    "        gen_responses.append(r)\n",
    "    "
   ]
  },
  {
   "cell_type": "code",
   "execution_count": 8,
   "metadata": {},
   "outputs": [
    {
     "data": {
      "text/plain": [
       "500"
      ]
     },
     "execution_count": 8,
     "metadata": {},
     "output_type": "execute_result"
    }
   ],
   "source": [
    "r.status_code"
   ]
  },
  {
   "cell_type": "code",
   "execution_count": 10,
   "metadata": {},
   "outputs": [
    {
     "data": {
      "text/plain": [
       "b'<!doctype html><html lang=\"en\"><head><title>HTTP Status 500 \\xe2\\x80\\x93 Internal Server Error</title><style type=\"text/css\">body {font-family:Tahoma,Arial,sans-serif;} h1, h2, h3, b {color:white;background-color:#525D76;} h1 {font-size:22px;} h2 {font-size:16px;} h3 {font-size:14px;} p {font-size:12px;} a {color:black;} .line {height:1px;background-color:#525D76;border:none;}</style></head><body><h1>HTTP Status 500 \\xe2\\x80\\x93 Internal Server Error</h1><hr class=\"line\" /><p><b>Type</b> Exception Report</p><p><b>Message</b> Request processing failed; nested exception is java.lang.NullPointerException</p><p><b>Description</b> The server encountered an unexpected condition that prevented it from fulfilling the request.</p><p><b>Exception</b></p><pre>org.springframework.web.util.NestedServletException: Request processing failed; nested exception is java.lang.NullPointerException\\n\\torg.springframework.web.servlet.FrameworkServlet.processRequest(FrameworkServlet.java:1014)\\n\\torg.springframework.web.servlet.FrameworkServlet.doPost(FrameworkServlet.java:909)\\n\\tjavax.servlet.http.HttpServlet.service(HttpServlet.java:681)\\n\\torg.springframework.web.servlet.FrameworkServlet.service(FrameworkServlet.java:883)\\n\\tjavax.servlet.http.HttpServlet.service(HttpServlet.java:764)\\n\\torg.apache.tomcat.websocket.server.WsFilter.doFilter(WsFilter.java:53)\\n</pre><p><b>Root Cause</b></p><pre>java.lang.NullPointerException\\n\\tde.uniwue.helper.ResultGenerationHelper.populatePageResult(ResultGenerationHelper.java:271)\\n\\tde.uniwue.helper.ResultGenerationHelper.executeTextProcess(ResultGenerationHelper.java:377)\\n\\tde.uniwue.helper.ResultGenerationHelper.executeProcess(ResultGenerationHelper.java:177)\\n\\tde.uniwue.controller.ResultGenerationController.execute(ResultGenerationController.java:98)\\n\\tsun.reflect.NativeMethodAccessorImpl.invoke0(Native Method)\\n\\tsun.reflect.NativeMethodAccessorImpl.invoke(NativeMethodAccessorImpl.java:62)\\n\\tsun.reflect.DelegatingMethodAccessorImpl.invoke(DelegatingMethodAccessorImpl.java:43)\\n\\tjava.lang.reflect.Method.invoke(Method.java:498)\\n\\torg.springframework.web.method.support.InvocableHandlerMethod.doInvoke(InvocableHandlerMethod.java:205)\\n\\torg.springframework.web.method.support.InvocableHandlerMethod.invokeForRequest(InvocableHandlerMethod.java:150)\\n\\torg.springframework.web.servlet.mvc.method.annotation.ServletInvocableHandlerMethod.invokeAndHandle(ServletInvocableHandlerMethod.java:117)\\n\\torg.springframework.web.servlet.mvc.method.annotation.RequestMappingHandlerAdapter.invokeHandlerMethod(RequestMappingHandlerAdapter.java:895)\\n\\torg.springframework.web.servlet.mvc.method.annotation.RequestMappingHandlerAdapter.handleInternal(RequestMappingHandlerAdapter.java:808)\\n\\torg.springframework.web.servlet.mvc.method.AbstractHandlerMethodAdapter.handle(AbstractHandlerMethodAdapter.java:87)\\n\\torg.springframework.web.servlet.DispatcherServlet.doDispatch(DispatcherServlet.java:1072)\\n\\torg.springframework.web.servlet.DispatcherServlet.doService(DispatcherServlet.java:965)\\n\\torg.springframework.web.servlet.FrameworkServlet.processRequest(FrameworkServlet.java:1006)\\n\\torg.springframework.web.servlet.FrameworkServlet.doPost(FrameworkServlet.java:909)\\n\\tjavax.servlet.http.HttpServlet.service(HttpServlet.java:681)\\n\\torg.springframework.web.servlet.FrameworkServlet.service(FrameworkServlet.java:883)\\n\\tjavax.servlet.http.HttpServlet.service(HttpServlet.java:764)\\n\\torg.apache.tomcat.websocket.server.WsFilter.doFilter(WsFilter.java:53)\\n</pre><p><b>Note</b> The full stack trace of the root cause is available in the server logs.</p><hr class=\"line\" /><h3>Apache Tomcat/9.0.54</h3></body></html>'"
      ]
     },
     "execution_count": 10,
     "metadata": {},
     "output_type": "execute_result"
    }
   ],
   "source": [
    "r.content"
   ]
  },
  {
   "cell_type": "code",
   "execution_count": null,
   "metadata": {},
   "outputs": [
    {
     "data": {
      "text/plain": [
       "{'resultType': 'txt',\n",
       " 'resultStrategy': 'pred',\n",
       " 'preserveEmptyLines': 'true',\n",
       " 'addPageDelimiter': 'true',\n",
       " 'customPageDelimiter': '',\n",
       " 'pageIds[]': '0003'}"
      ]
     },
     "execution_count": 8,
     "metadata": {},
     "output_type": "execute_result"
    }
   ],
   "source": [
    "payload"
   ]
  },
  {
   "cell_type": "code",
   "execution_count": null,
   "metadata": {},
   "outputs": [],
   "source": [
    "gen_responses"
   ]
  },
  {
   "cell_type": "code",
   "execution_count": null,
   "metadata": {},
   "outputs": [],
   "source": [
    "gen_responses[0].content"
   ]
  },
  {
   "cell_type": "code",
   "execution_count": null,
   "metadata": {},
   "outputs": [],
   "source": [
    "path"
   ]
  },
  {
   "cell_type": "code",
   "execution_count": null,
   "metadata": {},
   "outputs": [],
   "source": [
    "cookies"
   ]
  },
  {
   "cell_type": "code",
   "execution_count": null,
   "metadata": {},
   "outputs": [],
   "source": [
    "# payload"
   ]
  },
  {
   "cell_type": "code",
   "execution_count": null,
   "metadata": {},
   "outputs": [],
   "source": [
    "resp"
   ]
  },
  {
   "cell_type": "code",
   "execution_count": null,
   "metadata": {},
   "outputs": [],
   "source": [
    "print(resp.content)"
   ]
  },
  {
   "cell_type": "code",
   "execution_count": null,
   "metadata": {},
   "outputs": [],
   "source": [
    "print(resp.text)"
   ]
  },
  {
   "cell_type": "code",
   "execution_count": null,
   "metadata": {},
   "outputs": [],
   "source": [
    "files"
   ]
  }
 ],
 "metadata": {
  "kernelspec": {
   "display_name": "env",
   "language": "python",
   "name": "python3"
  },
  "language_info": {
   "codemirror_mode": {
    "name": "ipython",
    "version": 3
   },
   "file_extension": ".py",
   "mimetype": "text/x-python",
   "name": "python",
   "nbconvert_exporter": "python",
   "pygments_lexer": "ipython3",
   "version": "3.9.6"
  }
 },
 "nbformat": 4,
 "nbformat_minor": 2
}
