{
 "cells": [
  {
   "cell_type": "code",
   "execution_count": null,
   "metadata": {},
   "outputs": [],
   "source": [
    "import os\n",
    "\n",
    "from neo4j import GraphDatabase\n",
    "from dotenv import load_dotenv\n",
    "load_dotenv()"
   ]
  },
  {
   "cell_type": "code",
   "execution_count": null,
   "metadata": {},
   "outputs": [],
   "source": [
    "def _process_node(record, node_name):\n",
    "    return {\n",
    "        \"elem_id\": record[node_name].element_id,\n",
    "        \"type\": list(record[node_name].labels)[0],\n",
    "        **dict(record[node_name])\n",
    "    }\n",
    "\n",
    "def _process_edge(record, edge_name):\n",
    "    return {\n",
    "        \"elem_id\": record[edge_name].element_id,\n",
    "        \"type\": record[edge_name].type,\n",
    "        **dict(record[edge_name])\n",
    "    }\n",
    "\n",
    "def process_results(result):\n",
    "    return [\n",
    "        {\n",
    "            \"node1\": _process_node(rec, 'n'),\n",
    "            \"node2\": _process_node(rec, 'm'),\n",
    "            \"relationship\": _process_edge(rec, 'r')\n",
    "        }\n",
    "        for rec in result\n",
    "    ]\n",
    "\n",
    "def get_all_nodes_and_relationships(tx):\n",
    "    result = tx.run(\"MATCH (n)-[r]->(m) RETURN n,r,m\")\n",
    "    return [rec for rec in result]"
   ]
  },
  {
   "cell_type": "code",
   "execution_count": null,
   "metadata": {},
   "outputs": [],
   "source": [
    "# Neo4j AuraDB connection details\n",
    "uri = os.getenv(\"NEO4J_URI\")\n",
    "password = os.getenv(\"NEO4J_KEY\")\n",
    "username = 'neo4j'"
   ]
  },
  {
   "cell_type": "code",
   "execution_count": null,
   "metadata": {},
   "outputs": [],
   "source": [
    "# Connect to Neo4j AuraDB\n",
    "driver = GraphDatabase.driver(uri, auth=(username, password))\n",
    "\n",
    "with driver.session() as session:\n",
    "    nodes = session.execute_read(get_all_nodes_and_relationships)\n",
    "    nodes = process_results(nodes)\n",
    "driver.close()"
   ]
  },
  {
   "cell_type": "code",
   "execution_count": null,
   "metadata": {},
   "outputs": [],
   "source": [
    "len(nodes)"
   ]
  },
  {
   "cell_type": "code",
   "execution_count": null,
   "metadata": {},
   "outputs": [],
   "source": [
    "print(nodes[0]['node1'])"
   ]
  },
  {
   "cell_type": "code",
   "execution_count": null,
   "metadata": {},
   "outputs": [],
   "source": [
    "print(nodes[0]['node2'])"
   ]
  },
  {
   "cell_type": "code",
   "execution_count": null,
   "metadata": {},
   "outputs": [],
   "source": [
    "print(nodes[0]['relationship'])"
   ]
  },
  {
   "cell_type": "code",
   "execution_count": null,
   "metadata": {},
   "outputs": [],
   "source": [
    "import plotly as px\n"
   ]
  },
  {
   "cell_type": "code",
   "execution_count": null,
   "metadata": {},
   "outputs": [],
   "source": [
    "colors = (\n",
    "    px.colors.qualitative.T10 +\n",
    "    px.colors.qualitative.Plotly + \n",
    "    px.colors.qualitative.Alphabet + \n",
    "    px.colors.qualitative.Bold +\n",
    "    px.colors.qualitative.Pastel +\n",
    "    px.colors.qualitative.Prism +\n",
    "    px.colors.qualitative.Safe +\n",
    "    px.colors.qualitative.Vivid +\n",
    "    px.colors.qualitative.Light24 +\n",
    "    px.colors.qualitative.Dark24\n",
    ")\n",
    "# colors = list(set(colors))\n",
    "unique_colors = []\n",
    "for color in colors:\n",
    "    if color not in unique_colors:\n",
    "        unique_colors.append(color)"
   ]
  },
  {
   "cell_type": "code",
   "execution_count": null,
   "metadata": {},
   "outputs": [],
   "source": [
    "unique_colors"
   ]
  },
  {
   "cell_type": "code",
   "execution_count": null,
   "metadata": {},
   "outputs": [],
   "source": [
    "from pathlib import Path\n",
    "import pandas as pd\n",
    "\n",
    "path = Path('data')"
   ]
  },
  {
   "cell_type": "code",
   "execution_count": null,
   "metadata": {},
   "outputs": [],
   "source": [
    "df = pd.Series([str(p) for p in path.rglob('*.txt')], name='Path').to_frame()\n",
    "print(df.shape)\n",
    "df['DocumentName'] = df['Path'].str.split('/').str[1]\n",
    "df['DateProcessed'] = df['Path'].str.split('/').str[3]\n",
    "df['PageName'] = df['Path'].str.split('/').str[-1]\n",
    "df = df.loc[df['PageName'] != 'complete.txt']\n",
    "print(df.shape)\n",
    "df = df.drop_duplicates(subset=['DocumentName', 'PageName'])\n",
    "print(df.shape)\n",
    "df['PageId'] = df['PageName'].str.split('.').str[0]\n",
    "df"
   ]
  },
  {
   "cell_type": "code",
   "execution_count": null,
   "metadata": {},
   "outputs": [],
   "source": [
    "!pip freeze | grep pandas"
   ]
  },
  {
   "cell_type": "code",
   "execution_count": null,
   "metadata": {},
   "outputs": [],
   "source": [
    "df_images = pd.Series([str(p) for p in path.rglob('*.png')], name='ImagePath').to_frame()\n",
    "df_images['DocumentName'] = df_images['ImagePath'].str.split('/').str[1]\n",
    "df_images['ImageName'] = df_images['ImagePath'].str.split('/').str[-1]\n",
    "df_images['ImageId'] = df_images['ImageName'].str.split('.').str[0]\n",
    "df_images = df_images.loc[~df_images['ImageName'].str.contains('.bin')]\n",
    "df_images = df_images.loc[~df_images['ImageName'].str.contains('.nrm')]\n",
    "df_images = df_images.drop_duplicates(subset=['DocumentName', 'ImageName'])\n",
    "df_images\n"
   ]
  },
  {
   "cell_type": "code",
   "execution_count": null,
   "metadata": {},
   "outputs": [],
   "source": [
    "df = df.merge(df_images, left_on=('DocumentName', 'PageId'), right_on=('DocumentName', 'ImageId'), how='left')"
   ]
  },
  {
   "cell_type": "code",
   "execution_count": null,
   "metadata": {},
   "outputs": [],
   "source": [
    "df.shape"
   ]
  },
  {
   "cell_type": "code",
   "execution_count": null,
   "metadata": {},
   "outputs": [],
   "source": [
    "df.isna().sum()"
   ]
  },
  {
   "cell_type": "code",
   "execution_count": null,
   "metadata": {},
   "outputs": [],
   "source": [
    "from src.description_generation.describer import OpenAIDescriber"
   ]
  },
  {
   "cell_type": "code",
   "execution_count": null,
   "metadata": {},
   "outputs": [],
   "source": [
    "row = df.iloc[0]"
   ]
  },
  {
   "cell_type": "code",
   "execution_count": null,
   "metadata": {},
   "outputs": [],
   "source": [
    "row = df.query('ImageName == \"0000.png\"').iloc[0]"
   ]
  },
  {
   "cell_type": "code",
   "execution_count": null,
   "metadata": {},
   "outputs": [],
   "source": [
    "describer = OpenAIDescriber()\n",
    "resp, usage = describer.describe(row['Path'], row['ImagePath'])"
   ]
  },
  {
   "cell_type": "code",
   "execution_count": null,
   "metadata": {},
   "outputs": [],
   "source": [
    "resp"
   ]
  },
  {
   "cell_type": "code",
   "execution_count": null,
   "metadata": {},
   "outputs": [],
   "source": [
    "usage"
   ]
  },
  {
   "cell_type": "code",
   "execution_count": null,
   "metadata": {},
   "outputs": [],
   "source": [
    "row"
   ]
  },
  {
   "cell_type": "code",
   "execution_count": null,
   "metadata": {},
   "outputs": [],
   "source": [
    "import sys \n",
    "sys.path.append('src')\n",
    "\n",
    "from src.onboard_graph import load_data"
   ]
  },
  {
   "cell_type": "code",
   "execution_count": null,
   "metadata": {},
   "outputs": [],
   "source": [
    "data = load_data('src/../data')"
   ]
  },
  {
   "cell_type": "code",
   "execution_count": null,
   "metadata": {},
   "outputs": [],
   "source": [
    "df.shape"
   ]
  },
  {
   "cell_type": "code",
   "execution_count": null,
   "metadata": {},
   "outputs": [],
   "source": [
    "data = pd.read_csv('src/desc_backup.csv')\n",
    "data.shape\n"
   ]
  },
  {
   "cell_type": "code",
   "execution_count": null,
   "metadata": {},
   "outputs": [],
   "source": [
    "df = pd.concat([df, data], axis=1)"
   ]
  },
  {
   "cell_type": "code",
   "execution_count": null,
   "metadata": {},
   "outputs": [],
   "source": [
    "s = df.loc[df['Path'].str.contains('04 05 2022')].query('PageId == \"0000\"')['Description'].squeeze()"
   ]
  },
  {
   "cell_type": "code",
   "execution_count": null,
   "metadata": {},
   "outputs": [],
   "source": [
    "print(s.replace('```plaintext', '').replace('```', ''))"
   ]
  }
 ],
 "metadata": {
  "kernelspec": {
   "display_name": "graph_rag",
   "language": "python",
   "name": "python3"
  },
  "language_info": {
   "codemirror_mode": {
    "name": "ipython",
    "version": 3
   },
   "file_extension": ".py",
   "mimetype": "text/x-python",
   "name": "python",
   "nbconvert_exporter": "python",
   "pygments_lexer": "ipython3",
   "version": "3.9.6"
  }
 },
 "nbformat": 4,
 "nbformat_minor": 2
}
